{
 "cells": [
  {
   "cell_type": "code",
   "execution_count": 1,
   "metadata": {},
   "outputs": [],
   "source": [
    "quiz = [{\"Q.No\":1,\"Question\":\"Which river is the longest river of the world?\",\"options\":[\"indus\",\"nile\",\"ganga\",\"arnold\"],\"answer\":\"nile\"},\n",
    "        {\"Q.No\":2,\"Question\":\"In which vitamin is Cow's milk rich in?\",\"options\":[\"a\",\"b\",\"c\",\"d\"],\"answer\":\"a\"},\n",
    "        {\"Q.No\":3,\"Question\":\"What is the common name for washing soda?\",\"options\":[\"sodium nitrate\",\"sodium thiosulphate\",\"sodium bicarbonate\",\"caustic soda\"],\"answer\":\"sodium bicarbonate\"},\n",
    "        {\"Q.No\":4,\"Question\":\"Which country is called 'the Land of Rising Sun'?\",\"options\":[\"tokyo\",\"china\",\"japan\",\"pakistan\"],\"answer\":\"japan\"},\n",
    "        {\"Q.No\":5,\"Question\":\"What is meant by 'Apiphobia'?\",\"options\":[\"fear of height\",\"fear of bees\",\"fear of depth\",\"fear of loneliness\"],\"answer\":\"fear of bees\"},\n",
    "       ]"
   ]
  },
  {
   "cell_type": "code",
   "execution_count": 5,
   "metadata": {},
   "outputs": [
    {
     "name": "stdout",
     "output_type": "stream",
     "text": [
      "*******Answer the quiz questions*******\n",
      "\n",
      "1 : Which river is the longest river of the world? \n",
      " ['indus', 'nile', 'ganga', 'arnold']\n",
      "\n",
      "Enter your answer for question : nile\n",
      "2 : In which vitamin is Cow's milk rich in? \n",
      " ['a', 'b', 'c', 'd']\n",
      "\n",
      "Enter your answer for question : a\n",
      "3 : What is the common name for washing soda? \n",
      " ['sodium nitrate', 'sodium thiosulphate', 'sodium bicarbonate', 'caustic soda']\n",
      "\n",
      "Enter your answer for question : sodium bicarbonate\n",
      "4 : Which country is called 'the Land of Rising Sun'? \n",
      " ['tokyo', 'china', 'japan', 'pakistan']\n",
      "\n",
      "Enter your answer for question : japan\n",
      "5 : What is meant by 'Apiphobia'? \n",
      " ['fear of height', 'fear of bees', 'fear of depth', 'fear of loneliness']\n",
      "\n",
      "Enter your answer for question : fear of bees\n",
      "\n",
      "Your score is = 5\n",
      "\n",
      "******The End********\n"
     ]
    }
   ],
   "source": [
    "score = 0\n",
    "print(\"*******Answer the quiz questions*******\\n\")\n",
    "for i in quiz:\n",
    "    print(\"{} : {} \\n {}\".format(i['Q.No'],i['Question'],i['options']))\n",
    "    user_input = input(\"\\nEnter your answer for question : \")\n",
    "    if i['answer'].lower() == user_input.lower():\n",
    "        score += 1\n",
    "    else:\n",
    "        print(\"\\nWrong answer\\n\")\n",
    "print(\"\\nYour score is =\", score)\n",
    "print(\"\\n******The End********\")"
   ]
  },
  {
   "cell_type": "code",
   "execution_count": null,
   "metadata": {},
   "outputs": [],
   "source": []
  },
  {
   "cell_type": "code",
   "execution_count": null,
   "metadata": {},
   "outputs": [],
   "source": []
  }
 ],
 "metadata": {
  "kernelspec": {
   "display_name": "Python 3",
   "language": "python",
   "name": "python3"
  },
  "language_info": {
   "codemirror_mode": {
    "name": "ipython",
    "version": 3
   },
   "file_extension": ".py",
   "mimetype": "text/x-python",
   "name": "python",
   "nbconvert_exporter": "python",
   "pygments_lexer": "ipython3",
   "version": "3.7.3"
  }
 },
 "nbformat": 4,
 "nbformat_minor": 2
}
