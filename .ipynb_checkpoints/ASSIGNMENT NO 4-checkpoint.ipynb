{
 "cells": [
  {
   "cell_type": "markdown",
   "metadata": {},
   "source": [
    "QUESTION NO 1\n",
    "\n",
    "use a dictionary to store information about a person you know.Store their first name,last name,age and the city in which they live.You should have keys such as first_name,last_name,age and city.Print each piece of information stored in your dictionary.Add a new key value pair about qualification then update the qualification value to high academic level then delete it."
   ]
  },
  {
   "cell_type": "code",
   "execution_count": 1,
   "metadata": {},
   "outputs": [
    {
     "name": "stdout",
     "output_type": "stream",
     "text": [
      "Dictionary is:\n",
      " {'first_name': 'Sabila', 'last_name': 'Fatima', 'age': 27, 'city': 'Karachi'}\n",
      "\n",
      "After adding a new key value pair:\n",
      " {'first_name': 'Sabila', 'last_name': 'Fatima', 'age': 27, 'city': 'Karachi', 'Qualification': 'Graduation'}\n",
      "\n",
      "After updating Qualification:\n",
      " {'first_name': 'Sabila', 'last_name': 'Fatima', 'age': 27, 'city': 'Karachi', 'Qualification': 'Masters'}\n",
      "\n",
      "After deleting Qualification:\n",
      " {'first_name': 'Sabila', 'last_name': 'Fatima', 'age': 27, 'city': 'Karachi'}\n"
     ]
    }
   ],
   "source": [
    "person_I_know = {\"first_name\":\"Sabila\",\"last_name\":\"Fatima\",\"age\":27,\"city\":\"Karachi\"}\n",
    "print(\"Dictionary is:\\n\",person_I_know)\n",
    "person_I_know[\"Qualification\"] = \"Graduation\"\n",
    "print(\"\\nAfter adding a new key value pair:\\n\",person_I_know)\n",
    "person_I_know[\"Qualification\"] = \"Masters\"\n",
    "print(\"\\nAfter updating Qualification:\\n\",person_I_know)\n",
    "del person_I_know[\"Qualification\"]\n",
    "print(\"\\nAfter deleting Qualification:\\n\",person_I_know)\n"
   ]
  },
  {
   "cell_type": "markdown",
   "metadata": {},
   "source": [
    "QUESTION NO 2\n",
    "\n",
    "Make a dictionary called cities.Use the names of three cities as keys in your dictionary.Create a dictionary of information about each city and include the country that the city is in,its approximate population,and one fact about that city.The keys for each city's dictionary should b something like country,population,and fact.Print the name of each city and all the information you have stored about it."
   ]
  },
  {
   "cell_type": "code",
   "execution_count": 2,
   "metadata": {},
   "outputs": [
    {
     "name": "stdout",
     "output_type": "stream",
     "text": [
      "karachi:\n",
      "\tcountry:Pakistan\n",
      "\tpopulation:15,741,000\n",
      "\tfact:Karachi is the sixth biggest city in the world according to population.\n",
      "Lahore:\n",
      "\tcountry:Pakistan\n",
      "\tpopulation:12,188,000\n",
      "\tfact:It is known as \"City of Gardens\" because it has many parks and gardens\n",
      "Multan:\n",
      "\tcountry:Pakistan\n",
      "\tpopulation:1,972,000\n",
      "\tfact:It is famous for its large number of sufi shrines.\n"
     ]
    }
   ],
   "source": [
    "cities = {\"karachi\":{\"country\":\"Pakistan\",\n",
    "                     \"population\":\"15,741,000\",\n",
    "                     \"fact\":\"Karachi is the sixth biggest city in the world according to population.\"},\n",
    "\"Lahore\":{\"country\":\"Pakistan\",\n",
    "                   \"population\":\"12,188,000\",\n",
    "                   \"fact\":'It is known as \"City of Gardens\" because it has many parks and gardens'},\n",
    "\"Multan\":{\"country\":\"Pakistan\",\n",
    "                   \"population\":\"1,972,000\",\n",
    "                   \"fact\":\"It is famous for its large number of sufi shrines.\"},}\n",
    "\n",
    "for city in cities:\n",
    "    print(f\"{city}:\")\n",
    "    for k,v in cities[city].items():\n",
    "        print(f\"\\t{k}:{v}\")"
   ]
  },
  {
   "cell_type": "raw",
   "metadata": {},
   "source": [
    "QUESTION NO 3\n",
    "\n",
    "A movie theatre charges different ticket prices depending on a person's age.If a person is under the age of 3,the ticket is free;if they are between 3 and 12;the ticket is $10;and if they are over age 12,the ticket is $15.Write a loop in which you ask users their age,and then tell them the cost of their movie ticket. "
   ]
  },
  {
   "cell_type": "code",
   "execution_count": 4,
   "metadata": {},
   "outputs": [
    {
     "name": "stdout",
     "output_type": "stream",
     "text": [
      "enter exit to stop.\n",
      "Enter your age: 15\n",
      "Ticket is $15.\n",
      "Enter your age: 2\n",
      "Ticket is free.\n",
      "Enter your age: exit\n"
     ]
    }
   ],
   "source": [
    "print(\"enter exit to stop.\")\n",
    "while True :\n",
    "    age = input(\"Enter your age: \")\n",
    "    if age == \"exit\":\n",
    "        break\n",
    "    elif int(age) >= 1 and int(age) < 3:\n",
    "        print(\"Ticket is free.\")\n",
    "    elif int(age) >= 3 and int(age) <= 12:\n",
    "        print(\"Ticket is $10.\")\n",
    "    elif int(age) > 12:\n",
    "        print(\"Ticket is $15.\")\n",
    "    else:\n",
    "        print(\"Invalid age.\")\n",
    "\n"
   ]
  },
  {
   "cell_type": "markdown",
   "metadata": {},
   "source": [
    "QUESTION NO 4\n",
    "\n",
    "Write a function called favourite_book() that accepts one parameter,title.The function should be print a message,such as one of my favourite books is Alice in Wonderland.Call the function,making sure to include a book title as an argument in the function call."
   ]
  },
  {
   "cell_type": "code",
   "execution_count": 5,
   "metadata": {},
   "outputs": [
    {
     "name": "stdout",
     "output_type": "stream",
     "text": [
      "One of my favourite books is Harry Potter.\n"
     ]
    }
   ],
   "source": [
    "def favourite_book(title):\n",
    "    print(f\"One of my favourite books is {title}.\")\n",
    "    \n",
    "favourite_book(\"Harry Potter\")\n",
    "    \n",
    "    "
   ]
  },
  {
   "cell_type": "markdown",
   "metadata": {},
   "source": [
    "QUESTION NO 5\n",
    "\n",
    "Guess the number game\n",
    "\n",
    "Write a program which randomly generate a number between 1 to 30 and ask the user in input field to guess the correct number.Give three chances to user guess the number and also give hint to user.If hidden number is greater or smaller than the number he has given to input field. "
   ]
  },
  {
   "cell_type": "code",
   "execution_count": 1,
   "metadata": {},
   "outputs": [
    {
     "name": "stdout",
     "output_type": "stream",
     "text": [
      "\n",
      "\t\t GUESS THE NUMBER GAME\n",
      ".Guess a number from 1 to 30\n",
      ".You have three chances\n",
      "\n",
      "Guess the correct number : 2\n",
      "your number is less than the hidden/correct number.\n",
      "\n",
      "Guess the correct number : 4\n",
      "your number is less than the hidden/correct number.\n",
      "\n",
      "Guess the correct number : 8\n",
      "your number is less than the hidden/correct number.\n",
      "\n",
      "\t\tGame Over\n"
     ]
    }
   ],
   "source": [
    "import random\n",
    "number = random.randint(1,30)\n",
    "print(\"\\n\\t\\t GUESS THE NUMBER GAME\\n.Guess a number from 1 to 30\\n.You have three chances\")\n",
    "\n",
    "for i in range(3):\n",
    "    guess_number = int(input(\"\\nGuess the correct number : \"))\n",
    "    if guess_number == number:\n",
    "        print(\"Correct number\")\n",
    "        print(\"Congratulations.You Win!\")\n",
    "        break\n",
    "    elif guess_number < number and guess_number >0:\n",
    "        print(\"your number is less than the hidden/correct number.\")\n",
    "    elif guess_number > number and guess_number <= 30:\n",
    "        print(\"Your number is greater than the hidden/correct number.\")\n",
    "    else:\n",
    "        print(\"Invalid number.\")\n",
    "\n",
    "print(\"\\n\\t\\tGame Over\")"
   ]
  },
  {
   "cell_type": "code",
   "execution_count": null,
   "metadata": {},
   "outputs": [],
   "source": []
  },
  {
   "cell_type": "code",
   "execution_count": null,
   "metadata": {},
   "outputs": [],
   "source": []
  }
 ],
 "metadata": {
  "kernelspec": {
   "display_name": "Python 3",
   "language": "python",
   "name": "python3"
  },
  "language_info": {
   "codemirror_mode": {
    "name": "ipython",
    "version": 3
   },
   "file_extension": ".py",
   "mimetype": "text/x-python",
   "name": "python",
   "nbconvert_exporter": "python",
   "pygments_lexer": "ipython3",
   "version": "3.7.3"
  }
 },
 "nbformat": 4,
 "nbformat_minor": 2
}
