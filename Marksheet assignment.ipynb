{
 "cells": [
  {
   "cell_type": "markdown",
   "metadata": {},
   "source": [
    "# MARKSHEET ASSIGNMENT"
   ]
  },
  {
   "cell_type": "code",
   "execution_count": 4,
   "metadata": {},
   "outputs": [
    {
     "name": "stdout",
     "output_type": "stream",
     "text": [
      "Enter your marks here: 99\n",
      "A+\n"
     ]
    }
   ],
   "source": [
    "marks = int(input(\"Enter your marks here: \"))\n",
    "if marks > 100:\n",
    "    print(\"Invalid Input: Please enter marks from 1 to 100!\")\n",
    "elif marks >= 80:\n",
    "    print(\"A+\")\n",
    "elif marks >= 70:\n",
    "    print(\"B+\")\n",
    "elif marks >= 60:\n",
    "    print(\"B\")\n",
    "elif marks >= 50:\n",
    "    print(\"C\")\n",
    "elif marks >= 40:\n",
    "    print(\"D\")\n",
    "elif marks >= 33:\n",
    "    print(\"E\")\n",
    "elif marks < 33 and marks >=0:\n",
    "    print(\"F\")\n",
    "else:\n",
    "    (\"YOU HAVE ENTERED INAPPROPRIATE MARKS\")"
   ]
  },
  {
   "cell_type": "code",
   "execution_count": null,
   "metadata": {},
   "outputs": [],
   "source": []
  }
 ],
 "metadata": {
  "kernelspec": {
   "display_name": "Python 3",
   "language": "python",
   "name": "python3"
  },
  "language_info": {
   "codemirror_mode": {
    "name": "ipython",
    "version": 3
   },
   "file_extension": ".py",
   "mimetype": "text/x-python",
   "name": "python",
   "nbconvert_exporter": "python",
   "pygments_lexer": "ipython3",
   "version": "3.7.3"
  }
 },
 "nbformat": 4,
 "nbformat_minor": 2
}
