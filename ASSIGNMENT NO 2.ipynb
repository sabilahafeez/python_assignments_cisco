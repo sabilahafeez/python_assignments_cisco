{
 "cells": [
  {
   "cell_type": "markdown",
   "metadata": {},
   "source": [
    "1. Write a program which takes 5 inputs from user for different subject’s marks, total it and generate mark sheet using grades ? \n",
    " \n",
    "\n"
   ]
  },
  {
   "cell_type": "code",
   "execution_count": 1,
   "metadata": {},
   "outputs": [
    {
     "name": "stdout",
     "output_type": "stream",
     "text": [
      "MARKSHEET OF THE CANDIDATE\n",
      "Enter your marks of Urdu: 68\n",
      "You passed\n",
      "_______________________________\n",
      "Enter your marks of English: 79\n",
      "You passed\n",
      "_______________________________\n",
      "Enter your marks of Mathematics: 88\n",
      "You passed\n",
      "_______________________________\n",
      "Enter your marks of Science: 88\n",
      "You passed\n",
      "_______________________________\n",
      "Enter your marks of Islamiat: 90\n",
      "You passed\n",
      "_______________________________\n",
      "Minimum marks to pass is 165\n",
      "Your marks are : 413\n",
      "Your percentage is : 82.6 %\n",
      "_______________________________\n",
      "Invalid grade\n"
     ]
    }
   ],
   "source": [
    "print(\"MARKSHEET OF THE CANDIDATE\")\n",
    "urdu_marks = int(input(\"Enter your marks of Urdu: \"))\n",
    "if urdu_marks < 33:\n",
    "    print(\"You have failed in urdu\")\n",
    "elif urdu_marks >= 33 and urdu_marks< 100:\n",
    "    print(\"You passed\")\n",
    "else:\n",
    "    print(\"Enter marks between 1 to 100\")\n",
    "print(\"_______________________________\")\n",
    "eng_marks = int(input(\"Enter your marks of English: \"))\n",
    "if eng_marks < 33:\n",
    "    print(\"You have failed in English\")\n",
    "elif eng_marks>=33 and eng_marks< 100:\n",
    "    print(\"You passed\")\n",
    "else:\n",
    "    print(\"Enter marks between 1 to 100\")\n",
    "print(\"_______________________________\")\n",
    "maths_marks = int(input(\"Enter your marks of Mathematics: \"))\n",
    "if maths_marks < 33:\n",
    "    print(\"You have failed in Mathematics\")\n",
    "elif maths_marks>=33 and maths_marks< 100:\n",
    "    print(\"You passed\")\n",
    "else:\n",
    "    print(\"Enter marks between 1 to 100\")\n",
    "print(\"_______________________________\")\n",
    "sci_marks = int(input(\"Enter your marks of Science: \"))\n",
    "if sci_marks < 33:\n",
    "    print(\"You have failed in Science\")\n",
    "elif sci_marks>=33 and sci_marks< 100:\n",
    "    print(\"You passed\")\n",
    "else:\n",
    "    print(\"Enter marks between 1 to 100\")\n",
    "print(\"_______________________________\")\n",
    "isl_marks = int(input(\"Enter your marks of Islamiat: \"))\n",
    "if isl_marks < 33:\n",
    "    print(\"You have failed in Islamiat\")\n",
    "elif isl_marks>=33 and isl_marks< 100:\n",
    "    print(\"You passed\")\n",
    "else:\n",
    "    print(\"Enter marks between 1 to 100\")\n",
    "print(\"_______________________________\")\n",
    "total = urdu_marks + eng_marks + maths_marks + sci_marks + isl_marks\n",
    "print(\"Minimum marks to pass is 165\")\n",
    "print(\"Your marks are : \" + str(total))\n",
    "percentage = total/500*100\n",
    "print(\"Your percentage is : \" + str(percentage) +  \" \"+ \"%\")\n",
    "print(\"_______________________________\")\n",
    "if int(percentage) < 33:\n",
    "    print(\"Your grade is F\")\n",
    "elif int(percentage) >= 33 and int(percentage) <= 40:\n",
    "    print(\"Your grade is E\")\n",
    "elif int(percentage) >40 and int(percentage) <= 50:\n",
    "    print(\"Your grade is D\")\n",
    "elif int(percentage) > 50 and int(percentage) <= 60:\n",
    "    print(\"Your grade is C\")\n",
    "elif int(percentage) >60 and int(percentage) <= 70:\n",
    "    print(\"Your grade is B\")\n",
    "elif int(percentage) > 70 and int(percentage) <= 80:\n",
    "    print(\"Your grade is A\")\n",
    "elif int(percentage) > 90 and int(percentage) <= 100:\n",
    "    print(\"Your grade is A+\")\n",
    "else:\n",
    "    print(\"Invalid grade\")\n",
    "\n"
   ]
  },
  {
   "cell_type": "markdown",
   "metadata": {},
   "source": [
    "### 2. Write a program which take input from user and identify that the given number is even or odd? "
   ]
  },
  {
   "cell_type": "code",
   "execution_count": 2,
   "metadata": {},
   "outputs": [
    {
     "name": "stdout",
     "output_type": "stream",
     "text": [
      "Enter a number: 100\n",
      "Number is even\n"
     ]
    }
   ],
   "source": [
    "number = int(input(\"Enter a number: \"))\n",
    "if number % 2 ==0 :\n",
    "    print(\"Number is even\")\n",
    "else:\n",
    "    print(\"Number is odd\")"
   ]
  },
  {
   "cell_type": "markdown",
   "metadata": {},
   "source": [
    "3. Write a program which print the length of the list? "
   ]
  },
  {
   "cell_type": "code",
   "execution_count": 3,
   "metadata": {},
   "outputs": [
    {
     "name": "stdout",
     "output_type": "stream",
     "text": [
      "List is :\n",
      "[2, 'abc', 4.4, 6, 'efg', 9.3, True]\n",
      "Length of list is : \n",
      "7\n"
     ]
    }
   ],
   "source": [
    "print(\"List is :\")\n",
    "list1 = [2,'abc',4.4,6,'efg',9.3,True]\n",
    "print(list1)\n",
    "print(\"Length of list is : \")\n",
    "print(len(list1))"
   ]
  },
  {
   "cell_type": "markdown",
   "metadata": {},
   "source": [
    "4. Write a Python program to sum all the numeric items in a list? "
   ]
  },
  {
   "cell_type": "code",
   "execution_count": 4,
   "metadata": {},
   "outputs": [
    {
     "name": "stdout",
     "output_type": "stream",
     "text": [
      "['a', 2, 'd', 4, 1, 'f', 3]\n",
      "\n",
      "Sum of numbers is : 10\n"
     ]
    }
   ],
   "source": [
    "list2 = ['a',2,'d',4,1,'f',3]\n",
    "print(list2)\n",
    "x= 0\n",
    "for i in list2:\n",
    "    if isinstance(i,int):\n",
    "        x += i\n",
    "print(\"\\nSum of numbers is : \" + str(x))\n"
   ]
  },
  {
   "cell_type": "markdown",
   "metadata": {},
   "source": [
    "5. Write a Python program to get the largest number from a numeric list. "
   ]
  },
  {
   "cell_type": "code",
   "execution_count": 5,
   "metadata": {},
   "outputs": [
    {
     "name": "stdout",
     "output_type": "stream",
     "text": [
      "Numeric list: \n",
      "[2, 6, 9, 100, 4, 7, 3, 8]\n",
      "The largest number from the numeric list is : 100\n"
     ]
    }
   ],
   "source": [
    "list3 = [2,6,9,100,4,7,3,8]\n",
    "print(\"Numeric list: \")\n",
    "print(list3)\n",
    "print(\"The largest number from the numeric list is : \" + str(max(list3)))"
   ]
  },
  {
   "cell_type": "markdown",
   "metadata": {},
   "source": [
    "6. Take a list, say for example this one: \n",
    "   a = [1, 1, 2, 3, 5, 8, 13, 21, 34, 55, 89] \n",
    "and write a program that prints out all the elements of the list that are less than 5. "
   ]
  },
  {
   "cell_type": "code",
   "execution_count": 6,
   "metadata": {},
   "outputs": [
    {
     "name": "stdout",
     "output_type": "stream",
     "text": [
      "[1, 1, 2, 3, 5, 8, 13, 21, 34, 55, 89]\n",
      "Elements less than 5 are : \n",
      "1\n",
      "1\n",
      "2\n",
      "3\n"
     ]
    }
   ],
   "source": [
    "a = [1, 1, 2, 3, 5, 8, 13, 21, 34, 55, 89] \n",
    "print(a)\n",
    "print(\"Elements less than 5 are : \")\n",
    "for i in a:\n",
    "    if i < 5:\n",
    "        print(i)"
   ]
  }
 ],
 "metadata": {
  "kernelspec": {
   "display_name": "Python 3",
   "language": "python",
   "name": "python3"
  },
  "language_info": {
   "codemirror_mode": {
    "name": "ipython",
    "version": 3
   },
   "file_extension": ".py",
   "mimetype": "text/x-python",
   "name": "python",
   "nbconvert_exporter": "python",
   "pygments_lexer": "ipython3",
   "version": "3.7.3"
  }
 },
 "nbformat": 4,
 "nbformat_minor": 2
}
