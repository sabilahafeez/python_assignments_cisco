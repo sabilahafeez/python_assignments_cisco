{
 "cells": [
  {
   "cell_type": "markdown",
   "metadata": {},
   "source": [
    "Question:1\n",
    "Write a Python function to calculate the factorial of a number (a non-negative\n",
    "integer). The function accepts the number as an argument."
   ]
  },
  {
   "cell_type": "code",
   "execution_count": 1,
   "metadata": {},
   "outputs": [],
   "source": [
    "import math\n",
    "def calculation(x):\n",
    "    factorial = math.factorial(x)\n",
    "    print(factorial)\n",
    "    "
   ]
  },
  {
   "cell_type": "code",
   "execution_count": 2,
   "metadata": {},
   "outputs": [
    {
     "name": "stdout",
     "output_type": "stream",
     "text": [
      "24\n"
     ]
    }
   ],
   "source": [
    "calculation(4)"
   ]
  },
  {
   "cell_type": "markdown",
   "metadata": {},
   "source": [
    "Question:2\n",
    "Write a Python function that accepts a string and calculate the number of upper\n",
    "case letters and lower case letters."
   ]
  },
  {
   "cell_type": "code",
   "execution_count": 100,
   "metadata": {},
   "outputs": [
    {
     "name": "stdout",
     "output_type": "stream",
     "text": [
      "There are  2 upper case letters.\n",
      "There are  10 lower case letters.\n"
     ]
    }
   ],
   "source": [
    "def calculate_string(a):\n",
    "    i = 0\n",
    "    l = 0\n",
    "    for s in a:\n",
    "        if s.isupper():\n",
    "            i += 1\n",
    "        elif s.islower():\n",
    "            l += 1\n",
    "    print(\"There are \", i,\"upper case letters.\")\n",
    "    print(\"There are \", l , \"lower case letters.\")\n",
    "\n",
    "calculate_string(\"SabilaFatima\")"
   ]
  },
  {
   "cell_type": "code",
   "execution_count": null,
   "metadata": {},
   "outputs": [],
   "source": []
  },
  {
   "cell_type": "markdown",
   "metadata": {},
   "source": [
    "Question:3\n",
    "Write a Python function to print the even numbers from a given list."
   ]
  },
  {
   "cell_type": "code",
   "execution_count": 74,
   "metadata": {},
   "outputs": [
    {
     "name": "stdout",
     "output_type": "stream",
     "text": [
      "Even numbers from the list are:\n",
      "2,4,8,10,16,20,"
     ]
    }
   ],
   "source": [
    "list_of_numbers = [3,7,2,4,8,9,10,13,16,20]\n",
    "print(\"Even numbers from the list are:\")\n",
    "for i in list_of_numbers:\n",
    "    if i %2 == 0:\n",
    "        print(i,end = \",\")\n",
    "    \n",
    "        "
   ]
  },
  {
   "cell_type": "code",
   "execution_count": null,
   "metadata": {},
   "outputs": [],
   "source": []
  },
  {
   "cell_type": "markdown",
   "metadata": {},
   "source": [
    "Question:4\n",
    "Write a Python function that checks whether a passed string is palindrome or not.\n",
    "Note: A palindrome is a word, phrase, or sequence that reads the same\n",
    "backward as forward, e.g., madam"
   ]
  },
  {
   "cell_type": "code",
   "execution_count": 3,
   "metadata": {},
   "outputs": [],
   "source": [
    "def palindrome(p):\n",
    "    p_string = p.lower()\n",
    "    r_string = p_string[::-1]\n",
    "    print(p)\n",
    "    if p_string == r_string:\n",
    "        print(\"Yes!It's a palindrome.\")\n",
    "    else:\n",
    "        print(\"No!It's not a palindrome.\")\n",
    "    "
   ]
  },
  {
   "cell_type": "code",
   "execution_count": 4,
   "metadata": {},
   "outputs": [
    {
     "name": "stdout",
     "output_type": "stream",
     "text": [
      "madam\n",
      "Yes!It's a palindrome.\n",
      "class\n",
      "No!It's not a palindrome.\n"
     ]
    }
   ],
   "source": [
    "palindrome(\"madam\")\n",
    "palindrome(\"class\")"
   ]
  },
  {
   "cell_type": "markdown",
   "metadata": {},
   "source": [
    "Question:5\n",
    "Write a Python function that takes a number as a parameter and check the\n",
    "number is prime or not."
   ]
  },
  {
   "cell_type": "code",
   "execution_count": 17,
   "metadata": {},
   "outputs": [
    {
     "name": "stdout",
     "output_type": "stream",
     "text": [
      "44\n",
      "This is a not a prime number.\n"
     ]
    }
   ],
   "source": [
    "def check(x):\n",
    "    print(x)\n",
    "    if x > 1:\n",
    "        for i in range(2,x//2):\n",
    "            if x % i == 0:\n",
    "                print(\"This is a not a prime number.\")\n",
    "                break\n",
    "            else:\n",
    "                print(\"This a prime number.\")\n",
    "                \n",
    "    else:\n",
    "        print(\"enter number greater than 1.\")\n",
    "        \n",
    "check(44)"
   ]
  },
  {
   "cell_type": "markdown",
   "metadata": {},
   "source": [
    "Question: 6\n",
    "Suppose a customer is shopping in a market and you need to print all the items\n",
    "which user bought from market.\n",
    "Write a function which accepts the multiple arguments of user shopping list and\n",
    "print all the items which user bought from market.\n",
    "(Hint: Arbitrary Argument concept can make this task ease)"
   ]
  },
  {
   "cell_type": "code",
   "execution_count": 22,
   "metadata": {},
   "outputs": [
    {
     "name": "stdout",
     "output_type": "stream",
     "text": [
      "Items bought from the market are: \n",
      ". soap\n",
      ". shampoo\n",
      ". toothpaste\n",
      ". facewash\n"
     ]
    }
   ],
   "source": [
    "def shopping(*shopping_list):\n",
    "    print(\"Items bought from the market are: \")\n",
    "    for i in shopping_list:\n",
    "        print(\".\",i)\n",
    "    \n",
    "shopping(\"soap\",\"shampoo\",\"toothpaste\",\"facewash\")"
   ]
  }
 ],
 "metadata": {
  "kernelspec": {
   "display_name": "Python 3",
   "language": "python",
   "name": "python3"
  },
  "language_info": {
   "codemirror_mode": {
    "name": "ipython",
    "version": 3
   },
   "file_extension": ".py",
   "mimetype": "text/x-python",
   "name": "python",
   "nbconvert_exporter": "python",
   "pygments_lexer": "ipython3",
   "version": "3.7.3"
  }
 },
 "nbformat": 4,
 "nbformat_minor": 2
}
